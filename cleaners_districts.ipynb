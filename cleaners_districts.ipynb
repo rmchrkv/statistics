{
 "cells": [
  {
   "cell_type": "code",
   "execution_count": 118,
   "metadata": {},
   "outputs": [],
   "source": [
    "import numpy as np\n",
    "import random as rnd\n",
    "import itertools\n",
    "import collections\n",
    "import matplotlib.pyplot as plt\n",
    "%matplotlib inline"
   ]
  },
  {
   "cell_type": "code",
   "execution_count": 119,
   "metadata": {},
   "outputs": [],
   "source": [
    "n_districts = 40\n",
    "n_cleaners = 320\n",
    "cleaner_a = 1\n",
    "cleaner_b = 2\n",
    "num_repeat = 100\n",
    "normal_approx_repeat = 500"
   ]
  },
  {
   "cell_type": "code",
   "execution_count": 120,
   "metadata": {},
   "outputs": [],
   "source": [
    "cleaners = np.arange(start= 1, stop = n_cleaners+1)\n",
    "districts = np.arange(start= 1, stop = n_districts+1)\n",
    "cleaners_per_district =  int(n_cleaners/n_districts)\n",
    "\n",
    "def chunks(arr, n):\n",
    "    n = max(1, n)\n",
    "    return (arr[i:i+n] for i in range(0, len(arr), n))\n",
    "\n",
    "def common_district(cleaner_1, cleaner_2):\n",
    "    return indices.get(cleaner_1, set()) & indices.get(cleaner_2, set())"
   ]
  },
  {
   "cell_type": "code",
   "execution_count": 121,
   "metadata": {
    "scrolled": false
   },
   "outputs": [
    {
     "data": {
      "image/png": "[encoded data removed]",
      "text/plain": [
       "<Figure size 432x288 with 1 Axes>"
      ]
     },
     "metadata": {
      "needs_background": "light"
     },
     "output_type": "display_data"
    },
    {
     "name": "stdout",
     "output_type": "stream",
     "text": [
      "\n",
      "Estimated probability: 2.24%\n"
     ]
    }
   ],
   "source": [
    "stats = []\n",
    "for i in range(0, normal_approx_repeat):\n",
    "    prob_array = []\n",
    "    for i in range(0, num_repeat):\n",
    "        np.random.shuffle(cleaners)\n",
    "        #print(cleaners, '\\n')\n",
    "        districts_cleaners = list(itertools.islice(chunks(cleaners, cleaners_per_district), n_districts))\n",
    "        #print('Iteration', i+1, ':\\n', list(enumerate(districts_cleaners)), '\\n')\n",
    "        indices = {}\n",
    "        for j, district in enumerate(districts_cleaners):\n",
    "            for cleaner in district:\n",
    "                indices.setdefault(cleaner, set()).add(j)\n",
    "        ordered_indices = collections.OrderedDict(sorted(indices.items()))\n",
    "        #print(ordered_indices)\n",
    "        check = list(common_district(cleaner_a, cleaner_b))\n",
    "        if len(check) == 0:\n",
    "            prob_array.append(0)\n",
    "        #    print('No common district for cleaners A and B', '\\n\\n')\n",
    "        else:\n",
    "            prob_array.append(1)\n",
    "        #    print('Cleaner A and cleaner B are in disctrict #', check, '\\n\\n')\n",
    "    #print('Final results from', num_repeat, 'iterations:\\n', prob_array)\n",
    "    success = 0\n",
    "    for i in prob_array:\n",
    "        if i == 1:\n",
    "                success += 1\n",
    "    success_rate = success/num_repeat\n",
    "    stats.append(success_rate)\n",
    "    #print('\\nSuccess rate from the sample of', num_repeat, 'iterations:', success_rate)\n",
    "plt.hist(stats)\n",
    "plt.title('Probability distribution')\n",
    "plt.xlabel('probability')\n",
    "plt.ylabel('experiments')\n",
    "plt.show()\n",
    "print('\\nEstimated probability:', \"{0:.2%}\".format(np.mean(stats)))"
   ]
  }
 ],
 "metadata": {
  "kernelspec": {
   "display_name": "Python 3",
   "language": "python",
   "name": "python3"
  },
  "language_info": {
   "codemirror_mode": {
    "name": "ipython",
    "version": 3
   },
   "file_extension": ".py",
   "mimetype": "text/x-python",
   "name": "python",
   "nbconvert_exporter": "python",
   "pygments_lexer": "ipython3",
   "version": "3.7.6"
  }
 },
 "nbformat": 4,
 "nbformat_minor": 2
}
